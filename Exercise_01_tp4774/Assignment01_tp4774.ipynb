{
 "cells": [
  {
   "cell_type": "markdown",
   "metadata": {},
   "source": [
    "Assingment 01 <br>\n",
    "Nikos Periklis Chourdas - tp4774 <br>\n",
    "nikos.hourdas@gmail.com <br>\n"
   ]
  },
  {
   "cell_type": "markdown",
   "metadata": {},
   "source": [
    "firstly i will import and load the nescessary libraries for this assignment "
   ]
  },
  {
   "cell_type": "code",
   "execution_count": 3,
   "metadata": {},
   "outputs": [],
   "source": [
    "import numpy as np \n",
    "import pandas as pd\n",
    "import matplotlib.pyplot as plt\n"
   ]
  },
  {
   "cell_type": "markdown",
   "metadata": {},
   "source": [
    "data set and target of the operation "
   ]
  },
  {
   "cell_type": "code",
   "execution_count": 4,
   "metadata": {},
   "outputs": [],
   "source": [
    "dataset = np.array(\n",
    "    [[0.22, 0.21, 0.25, 0.76, 0.84], \n",
    "     [0.34, 0.37, 0.31, 0.19, 0.14]\n",
    "    ]);\n",
    "\n",
    "target = np.array([0,0,0,1,1])"
   ]
  },
  {
   "cell_type": "markdown",
   "metadata": {},
   "source": [
    "reshape the labels array for each of the dataset's array "
   ]
  },
  {
   "cell_type": "code",
   "execution_count": 5,
   "metadata": {},
   "outputs": [
    {
     "data": {
      "text/plain": [
       "array([0, 0, 0, 1, 1])"
      ]
     },
     "execution_count": 5,
     "metadata": {},
     "output_type": "execute_result"
    }
   ],
   "source": [
    "target.reshape(dataset[0].shape[0])\n",
    "target.reshape(dataset[1].shape[0])"
   ]
  },
  {
   "cell_type": "markdown",
   "metadata": {},
   "source": [
    "Graph of the given data "
   ]
  },
  {
   "cell_type": "code",
   "execution_count": 4,
   "metadata": {},
   "outputs": [
    {
     "data": {
      "text/plain": [
       "Text(0, 0.5, 'dataset 2 ')"
      ]
     },
     "execution_count": 4,
     "metadata": {},
     "output_type": "execute_result"
    },
    {
     "data": {
      "image/png": "[encoded data removed]",
      "text/plain": [
       "<Figure size 432x288 with 1 Axes>"
      ]
     },
     "metadata": {
      "needs_background": "light"
     },
     "output_type": "display_data"
    }
   ],
   "source": [
    "plt.title(\"input data\")\n",
    "plt.grid()\n",
    "# c = target[:5] outputs the data according to the target array \n",
    "plt.scatter(dataset[0],dataset[1], c = target[:5])  \n",
    "plt.xlabel('dataset 1 ')\n",
    "plt.ylabel('dataset 2 ')"
   ]
  },
  {
   "cell_type": "markdown",
   "metadata": {},
   "source": [
    "we combine the values of dataset[0] and dataset[1] <br>\n",
    "and we seperate the values of target array into different arrays "
   ]
  },
  {
   "cell_type": "code",
   "execution_count": 31,
   "metadata": {},
   "outputs": [],
   "source": [
    "dataset2 = [[0.22,0.34], [0.21,0.37], [0.25,0.31], [0.76,0.19], [0.84,0.14]];\n",
    "target2 = [[0], [0], [0], [1], [1]];"
   ]
  },
  {
   "cell_type": "markdown",
   "metadata": {},
   "source": [
    "we use the command 'newp' from the library neurolab which creates a single layer Perceptron <br>\n",
    "if we wished to add more layers to this network we could increase the number of the second parameter \n"
   ]
  },
  {
   "cell_type": "code",
   "execution_count": 32,
   "metadata": {},
   "outputs": [
    {
     "name": "stdout",
     "output_type": "stream",
     "text": [
      "Epoch: 1; Error: 1.0;\n",
      "Epoch: 2; Error: 1.5;\n",
      "Epoch: 3; Error: 1.5;\n",
      "Epoch: 4; Error: 1.5;\n",
      "Epoch: 5; Error: 1.5;\n",
      "Epoch: 6; Error: 0.0;\n",
      "The goal of learning is reached\n"
     ]
    }
   ],
   "source": [
    "\n",
    "net =  nl.net.newp(nl.tool.minmax(dataset2),1)\n",
    "error = net.train(dataset2, target2  ,epochs = 100 , show= 1 , lr = 0.3)"
   ]
  },
  {
   "cell_type": "markdown",
   "metadata": {},
   "source": [
    "even if we increase or decrease the learning rate it takes the Perceptron 6 epochs to  reach its goal"
   ]
  },
  {
   "cell_type": "code",
   "execution_count": 33,
   "metadata": {},
   "outputs": [
    {
     "data": {
      "image/png": "[encoded data removed]",
      "text/plain": [
       "<Figure size 432x288 with 1 Axes>"
      ]
     },
     "metadata": {
      "needs_background": "light"
     },
     "output_type": "display_data"
    }
   ],
   "source": [
    "plt.plot(error,'red')\n",
    "plt.xlabel('epochchs')\n",
    "plt.ylabel('training error')\n",
    "\n",
    "plt.grid()\n",
    "plt.show()\n",
    "net.save('Assignment01_net_4774')"
   ]
  },
  {
   "cell_type": "markdown",
   "metadata": {},
   "source": [
    "feeding the perceptron with more data "
   ]
  },
  {
   "cell_type": "code",
   "execution_count": 35,
   "metadata": {},
   "outputs": [
    {
     "data": {
      "text/plain": [
       "array([[1.],\n",
       "       [0.]])"
      ]
     },
     "execution_count": 35,
     "metadata": {},
     "output_type": "execute_result"
    }
   ],
   "source": [
    "a = np.array([0.83,0.14])\n",
    "b = np.array([0.27,0.42])\n",
    "net.sim([a,b])"
   ]
  },
  {
   "cell_type": "markdown",
   "metadata": {},
   "source": [
    "The Perceptron has been trained correctly <br>\n",
    "outputs a value of [1] when the first value is larger than the second with a margin of 0.2 <br>\n",
    "outputs a value of [2] when the second value is larger OR the first is larger by a margin smaller than 0.2 "
   ]
  }
 ],
 "metadata": {
  "interpreter": {
   "hash": "f636b3aab5b4145d7d2fed0bb6747c520a9b26f0b0860d374803d557817007fb"
  },
  "kernelspec": {
   "display_name": "Python 3.9.10 64-bit (windows store)",
   "language": "python",
   "name": "python3"
  },
  "language_info": {
   "codemirror_mode": {
    "name": "ipython",
    "version": 3
   },
   "file_extension": ".py",
   "mimetype": "text/x-python",
   "name": "python",
   "nbconvert_exporter": "python",
   "pygments_lexer": "ipython3",
   "version": "3.9.12"
  },
  "orig_nbformat": 4
 },
 "nbformat": 4,
 "nbformat_minor": 2
}
